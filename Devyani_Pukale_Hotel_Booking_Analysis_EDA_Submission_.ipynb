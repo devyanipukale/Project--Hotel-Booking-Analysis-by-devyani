{
  "nbformat": 4,
  "nbformat_minor": 0,
  "metadata": {
    "colab": {
      "private_outputs": true,
      "provenance": [],
      "collapsed_sections": [
        "PBTbrJXOngz2",
        "dauF4eBmngu3",
        "gIfDvo9L0UH2"
      ],
      "include_colab_link": true
    },
    "kernelspec": {
      "name": "python3",
      "display_name": "Python 3"
    },
    "language_info": {
      "name": "python"
    },
    "gpuClass": "standard"
  },
  "cells": [
    {
      "cell_type": "markdown",
      "metadata": {
        "id": "view-in-github",
        "colab_type": "text"
      },
      "source": [
        "<a href=\"https://colab.research.google.com/github/devyanipukale/Project--Hotel-Booking-Analysis-by-devyani/blob/main/Devyani_Pukale_Hotel_Booking_Analysis_EDA_Submission_.ipynb\" target=\"_parent\"><img src=\"https://colab.research.google.com/assets/colab-badge.svg\" alt=\"Open In Colab\"/></a>"
      ]
    },
    {
      "cell_type": "markdown",
      "source": [
        "# **Project Name**    - Hotel Booking Analysis\n",
        "\n"
      ],
      "metadata": {
        "id": "vncDsAP0Gaoa"
      }
    },
    {
      "cell_type": "markdown",
      "source": [
        "##### **Project Type**    - EDA/Regression/Classification/Unsupervised\n",
        "##### **Contribution**    - Individual\n"
      ],
      "metadata": {
        "id": "beRrZCGUAJYm"
      }
    },
    {
      "cell_type": "markdown",
      "source": [
        "# **Project Summary -**"
      ],
      "metadata": {
        "id": "FJNUwmbgGyua"
      }
    },
    {
      "cell_type": "markdown",
      "source": [
        "In this project, I begain to explore the dataset in which hotel booking comprises of two types of hotels i.e City Hotel and Resort Hotel. The dataset contains a total of 119390 rows and 32 columns. The data manipulation workflow was divided into three categories**: Data Collection, Data Cleaning and Manipulation, and Exploratory Data Analysis EDA ( Exploratory Data Analysis)**.\n",
        "\n",
        "In the Data Collection phase, we have used various basic  functions and attributes ie Data collections first step to find different columns which is done by using various methods like **Head(), tail(), info(), describe(), columns()**The unique values of each column were also determined and presented in a tabular form. The data type of each column was also checked, and any inaccuracies were corrected in the Data Cleaning and Manipulation phase.In this dataset there are both duplicates and missing values available. So we have to deal with that and as a result we have replaced the null and missing values and also have dropped the duplicate values.\n",
        "\n",
        "\n",
        "Before visualizing any type of data from the data set we need to do data wrangling So, For that, we have checked the null value of all the columns So after completing the process of data visualisation.we moved to the data visualization part\n",
        "\n",
        "\n",
        "Then I have started the data visualisation part. We have done the Vizualization in a structured way while following UBM Rule\n",
        "\n",
        "U-Univariate Analysis,\n",
        "\n",
        "B-Bivariate Analysis (Numerical - Categorical, Numerical - Numerical, Categorical - Categorical)\n",
        "\n",
        "M-Multivariate Analysis\n",
        "\n",
        "In the data visualization process, we have used various charts and have dived deep understanding the graphs to catch the proper insights that gives the business\n",
        "Finally, different charts were used for data visualization to gain better insights and attain the business objective.\n"
      ],
      "metadata": {
        "id": "F6v_1wHtG2nS"
      }
    },
    {
      "cell_type": "markdown",
      "source": [
        "# **GitHub Link -**"
      ],
      "metadata": {
        "id": "w6K7xa23Elo4"
      }
    },
    {
      "cell_type": "markdown",
      "source": [
        "https://github.com/devyanipukale/Project--Hotel-Booking-Analysis-by-devyani/blob/main/Devyani_Pukale_Hotel_Booking_Analysis_EDA_Submission_.ipynb"
      ],
      "metadata": {
        "id": "lcskZSgarev6"
      }
    },
    {
      "cell_type": "markdown",
      "source": [
        "# **Problem Statement**\n"
      ],
      "metadata": {
        "id": "yQaldy8SH6Dl"
      }
    },
    {
      "cell_type": "markdown",
      "source": [
        "Have you ever wondered when the best time of year to book a hotel room is? Or the optimal length of stay in order to get the best daily rate?              What if you wanted to predict whether or not a hotel was likely to receive a disproportionately high number of special requests? This hotel booking dataset can help you explore those questions! This data set contains booking information for a city hotel and a resort hotel, and includes information such as when the booking was made, length of stay, the number of adults, children, and/or babies, and the number of available parking spaces, among other things. All personally identifying information has been removed from the data.Here, it is given a hotel booking dataset. This dataset contains booking information for a city hotel and a resort hotel."
      ],
      "metadata": {
        "id": "DpeJGUA3kjGy"
      }
    },
    {
      "cell_type": "markdown",
      "source": [
        "#### **Define Your Business Objective?**"
      ],
      "metadata": {
        "id": "PH-0ReGfmX4f"
      }
    },
    {
      "cell_type": "markdown",
      "source": [
        "Explore and analyze the data to discover important factors that govern the bookings..."
      ],
      "metadata": {
        "id": "PhDvGCAqmjP1"
      }
    },
    {
      "cell_type": "markdown",
      "source": [
        "# **General Guidelines** : -  "
      ],
      "metadata": {
        "id": "mDgbUHAGgjLW"
      }
    },
    {
      "cell_type": "markdown",
      "source": [
        "1.   Well-structured, formatted, and commented code is required. \n",
        "2.   Exception Handling, Production Grade Code & Deployment Ready Code will be a plus. Those students will be awarded some additional credits. \n",
        "     \n",
        "     The additional credits will have advantages over other students during Star Student selection.\n",
        "       \n",
        "             [ Note: - Deployment Ready Code is defined as, the whole .ipynb notebook should be executable in one go\n",
        "                       without a single error logged. ]\n",
        "\n",
        "3.   Each and every logic should have proper comments.\n",
        "4. You may add as many number of charts you want. Make Sure for each and every chart the following format should be answered.\n",
        "        \n",
        "\n",
        "```\n",
        "# Chart visualization code\n",
        "```\n",
        "            \n",
        "\n",
        "*   Why did you pick the specific chart?\n",
        "*   What is/are the insight(s) found from the chart?\n",
        "* Will the gained insights help creating a positive business impact? \n",
        "Are there any insights that lead to negative growth? Justify with specific reason.\n",
        "\n",
        "5. You have to create at least 20 logical & meaningful charts having important insights.\n",
        "\n",
        "\n",
        "[ Hints : - Do the Vizualization in  a structured way while following \"UBM\" Rule. \n",
        "\n",
        "U - Univariate Analysis,\n",
        "\n",
        "B - Bivariate Analysis (Numerical - Categorical, Numerical - Numerical, Categorical - Categorical)\n",
        "\n",
        "M - Multivariate Analysis\n",
        " ]\n",
        "\n",
        "\n",
        "\n"
      ],
      "metadata": {
        "id": "ZrxVaUj-hHfC"
      }
    },
    {
      "cell_type": "markdown",
      "source": [
        "# ***Let's Begin !***"
      ],
      "metadata": {
        "id": "O_i_v8NEhb9l"
      }
    },
    {
      "cell_type": "markdown",
      "source": [
        "## ***1. Know Your Data***"
      ],
      "metadata": {
        "id": "HhfV-JJviCcP"
      }
    },
    {
      "cell_type": "markdown",
      "source": [
        "### Import Libraries"
      ],
      "metadata": {
        "id": "Y3lxredqlCYt"
      }
    },
    {
      "cell_type": "code",
      "source": [
        "# Import Libraries\n",
        "import numpy as np\n",
        "import pandas as pd\n",
        "import matplotlib.pyplot as plt\n",
        "%matplotlib inline\n",
        "from datetime import datetime\n",
        "import seaborn as sns\n",
        "import ast "
      ],
      "metadata": {
        "id": "M8Vqi-pPk-HR"
      },
      "execution_count": null,
      "outputs": []
    },
    {
      "cell_type": "code",
      "source": [
        "from google.colab import drive\n",
        "drive.mount('/content/drive')"
      ],
      "metadata": {
        "id": "C8K1ro0VJDv9"
      },
      "execution_count": null,
      "outputs": []
    },
    {
      "cell_type": "markdown",
      "source": [
        "Dataset link :-https://drive.google.com/file/d/1C9AxF9fcVzMw0Bgs0NaRrNML2WwX1Ehm/view"
      ],
      "metadata": {
        "id": "OdcGxSctKMQB"
      }
    },
    {
      "cell_type": "markdown",
      "source": [
        "### Dataset Loading"
      ],
      "metadata": {
        "id": "3RnN4peoiCZX"
      }
    },
    {
      "cell_type": "code",
      "source": [
        "# Load Dataset\n",
        "database = \"/content/drive/MyDrive/Hotel Bookings.csv\"\n",
        "hotel_booking_df =pd.read_csv(database)"
      ],
      "metadata": {
        "id": "4CkvbW_SlZ_R"
      },
      "execution_count": null,
      "outputs": []
    },
    {
      "cell_type": "markdown",
      "source": [
        "### Dataset First View"
      ],
      "metadata": {
        "id": "x71ZqKXriCWQ"
      }
    },
    {
      "cell_type": "code",
      "source": [
        "# Dataset First look\n",
        "hotel_booking_df"
      ],
      "metadata": {
        "id": "LWNFOSvLl09H"
      },
      "execution_count": null,
      "outputs": []
    },
    {
      "cell_type": "markdown",
      "source": [
        "### Dataset Rows & Columns count"
      ],
      "metadata": {
        "id": "7hBIi_osiCS2"
      }
    },
    {
      "cell_type": "code",
      "source": [
        "# Dataset Rows & Columns count\n",
        "print(hotel_booking_df.shape)\n",
        "print('\\n')\n",
        "print(hotel_booking_df.columns)"
      ],
      "metadata": {
        "id": "Kllu7SJgmLij"
      },
      "execution_count": null,
      "outputs": []
    },
    {
      "cell_type": "markdown",
      "source": [
        "### Dataset Information"
      ],
      "metadata": {
        "id": "JlHwYmJAmNHm"
      }
    },
    {
      "cell_type": "code",
      "source": [
        "# Dataset Info\n",
        "hotel_booking_df.info()"
      ],
      "metadata": {
        "id": "e9hRXRi6meOf"
      },
      "execution_count": null,
      "outputs": []
    },
    {
      "cell_type": "markdown",
      "source": [
        "#### Duplicate Values"
      ],
      "metadata": {
        "id": "35m5QtbWiB9F"
      }
    },
    {
      "cell_type": "code",
      "source": [
        "# Dataset Duplicate Value Count, to remove these values, we use function drop.duplicate to delete duplicate rows. \n",
        "hotel_booking_df.drop_duplicates(inplace = True)\n",
        "\n",
        "# total rows = 119390, Duplicate Rows = 31994\n",
        "uni_num_of_rows = hotel_booking_df.shape[0]\n",
        "\n",
        "uni_num_of_rows # now unique rows = 87396"
      ],
      "metadata": {
        "id": "1sLdpKYkmox0"
      },
      "execution_count": null,
      "outputs": []
    },
    {
      "cell_type": "code",
      "source": [
        "hotel_booking_df.reset_index() # View unique data"
      ],
      "metadata": {
        "id": "09_VNv1AwhsV"
      },
      "execution_count": null,
      "outputs": []
    },
    {
      "cell_type": "markdown",
      "source": [
        "#### Missing Values/Null Values"
      ],
      "metadata": {
        "id": "PoPl-ycgm1ru"
      }
    },
    {
      "cell_type": "code",
      "source": [
        "# Missing Values/Null Values Count\n",
        "null_value = hotel_booking_df.isnull() == True\n",
        "hotel_booking_df.fillna(np.nan, inplace = True)\n",
        "\n",
        "hotel_booking_df # we replace all the null value as NaN."
      ],
      "metadata": {
        "id": "RZJp6fX7jQAc"
      },
      "execution_count": null,
      "outputs": []
    },
    {
      "cell_type": "code",
      "source": [
        "# Visualizing the missing values\n",
        "missing_values =hotel_booking_df.isnull().sum().sort_values(ascending=False)\n",
        "print(missing_values) \n",
        "#getting missing/null values count in descending order to get a orgnised output\n"
      ],
      "metadata": {
        "id": "3q5wnI3om9sJ"
      },
      "execution_count": null,
      "outputs": []
    },
    {
      "cell_type": "markdown",
      "source": [
        "### What did you know about your dataset?"
      ],
      "metadata": {
        "id": "H0kj-8xxnORC"
      }
    },
    {
      "cell_type": "markdown",
      "source": [
        "This data set contains a single file which compares various booking information between two hotels: a city hotel and a resort hotel.Includes information such as when the booking was made, length of stay, the number of adults, children, and/or babies, and the number of available parking spaces, among other things.  \n",
        "The dataset contains a total of 119390 rows and 32 columns.\n",
        " \n",
        " All the columns are divided into three dtype:-Object, Float64 and int64 \n",
        "\n",
        " The maximum number of missing values are from \"Company\" column then followed by \"Agent\" \"Country\" and \"Children\" columns.the \"children\" columns consist of only 4 null values while \"company\" column consist of a 82137 null values.\n"
      ],
      "metadata": {
        "id": "gfoNAAC-nUe_"
      }
    },
    {
      "cell_type": "markdown",
      "source": [
        "## ***2. Understanding Your Variables***"
      ],
      "metadata": {
        "id": "nA9Y7ga8ng1Z"
      }
    },
    {
      "cell_type": "markdown",
      "source": [
        "**let's get all columns**"
      ],
      "metadata": {
        "id": "lHTxUCNMmYg3"
      }
    },
    {
      "cell_type": "code",
      "source": [
        "# Dataset Columns\n",
        "column_df = hotel_booking_df.columns\n",
        "print(column_df)"
      ],
      "metadata": {
        "id": "j7xfkqrt5Ag5"
      },
      "execution_count": null,
      "outputs": []
    },
    {
      "cell_type": "markdown",
      "source": [
        "**Let's describe data for insights**"
      ],
      "metadata": {
        "id": "Qbm_hRoRmiST"
      }
    },
    {
      "cell_type": "code",
      "source": [
        "# Dataset Describe\n",
        "hotel_booking_df.describe()"
      ],
      "metadata": {
        "id": "DnOaZdaE5Q5t"
      },
      "execution_count": null,
      "outputs": []
    },
    {
      "cell_type": "markdown",
      "source": [
        "## Variables Description "
      ],
      "metadata": {
        "id": "PBTbrJXOngz2"
      }
    },
    {
      "cell_type": "markdown",
      "source": [
        "##**Description of individual Variable**\n",
        "\n",
        "The columns and the data it represents are listed below:\n",
        "\n",
        "1.**hotel** : Name of the hotel (Resort Hotel or City Hotel)\n",
        "\n",
        "2.**is_canceled** : If the booking was canceled (1) or not (0)\n",
        "\n",
        "3.**lead_time**: Number of days before the actual arrival of the guests\n",
        "\n",
        "4.**arrival_date_year** : Year of arrival date\n",
        "\n",
        "5.**arrival_date_month** : Month of month arrival date\n",
        "\n",
        "6.**arrival_date_week_number** : Week number of year for arrival date\n",
        "\n",
        "7.**arrival_date_day_of_month** : Day of arrival date\n",
        "\n",
        "8.**stays_in_weekend_nights** : Number of weekend nights (Saturday or Sunday) spent at the hotel by the guests.\n",
        "\n",
        "9.**stays_in_week_nights** : Number of weeknights (Monday to Friday) spent at the hotel by the guests.\n",
        "\n",
        "10.**adults**: Number of adults among guests\n",
        "\n",
        "11.**children** : Number of children among guests\n",
        "\n",
        "12.**babies** : Number of babies among guests\n",
        "\n",
        "13.**meal** : Type of meal booked\n",
        "\n",
        "14.**country** : Country of guests\n",
        "\n",
        "15.**market_segment** : Designation of market segment\n",
        "\n",
        "16.**distribution_channel** : Name of booking distribution channel\n",
        "\n",
        "17.**is_repeated_guest** : If the booking was from a repeated guest (1) or not (0)\n",
        "\n",
        "18.**previous_cancellations** : Number of previous bookings that were cancelled by the customer prior to the current booking\n",
        "\n",
        "19.**previous_bookings_not_canceled** : Number of previous bookings not cancelled by the customer prior to the current booking\n",
        "\n",
        "20.**reserved_room_type** : Code of room type reserved\n",
        "\n",
        "21.**assigned_room_type** : Code of room type assigned\n",
        "\n",
        "22.**booking_changes** : Number of changes/amendments made to the booking\n",
        "\n",
        "23.**deposit_type** : Type of the deposit made by the guest\n",
        "\n",
        "24.**agent** : ID of travel agent who made the booking\n",
        "\n",
        "25.**company** : ID of the company that made the booking\n",
        "\n",
        "26.**days_in_waiting_list** : Number of days the booking was in the waiting list\n",
        "\n",
        "27.**customer_type** : Type of customer, assuming one of four categories\n",
        "\n",
        "28.**adr** : Average Daily Rate, as defined by dividing the sum of all lodging transactions by the total number of staying nights\n",
        "\n",
        "29.**required_car_parking_spaces** : Number of car parking spaces required by the customer\n",
        "\n",
        "30.**total_of_special_requests** : Number of special requests made by the customer\n",
        "\n",
        "31.**reservation_status** : Reservation status (Canceled, Check-Out or No-Show)\n",
        "\n",
        "32.**reservation_status_date** : Date at which the last reservation status was updated"
      ],
      "metadata": {
        "id": "VJH2HYOe3vxe"
      }
    },
    {
      "cell_type": "markdown",
      "source": [
        "### Check Unique Values for each variable."
      ],
      "metadata": {
        "id": "u3PMJOP6ngxN"
      }
    },
    {
      "cell_type": "code",
      "source": [
        "# Check Unique Values for each variable.\n",
        "print(hotel_booking_df.apply(lambda col: col.unique())) # We have describes unique value in all individual column."
      ],
      "metadata": {
        "id": "zms12Yq5n-jE"
      },
      "execution_count": null,
      "outputs": []
    },
    {
      "cell_type": "code",
      "source": [
        "#Checking unique values in categorical columns one by one\n",
        " #1.Checking unique values in Hotel column\n",
        "\n",
        "hotel_booking_df['hotel'].unique()\n"
      ],
      "metadata": {
        "id": "2nd0jLCimcgn"
      },
      "execution_count": null,
      "outputs": []
    },
    {
      "cell_type": "code",
      "source": [
        "#Checking unique values in 'is canceled column\n",
        "hotel_booking_df['is_canceled'].unique()"
      ],
      "metadata": {
        "id": "xZvWHrrNm3Lk"
      },
      "execution_count": null,
      "outputs": []
    },
    {
      "cell_type": "code",
      "source": [
        "#Checking unique values in babies column\n",
        "hotel_booking_df['babies'].unique()"
      ],
      "metadata": {
        "id": "jcToMtqlnXyU"
      },
      "execution_count": null,
      "outputs": []
    },
    {
      "cell_type": "markdown",
      "source": [
        "## 3. ***Data Wrangling***"
      ],
      "metadata": {
        "id": "dauF4eBmngu3"
      }
    },
    {
      "cell_type": "markdown",
      "source": [
        "## Data cleaning"
      ],
      "metadata": {
        "id": "bKJF3rekwFvQ"
      }
    },
    {
      "cell_type": "code",
      "source": [
        "#write your code\n",
        "# missing values in columns.\n",
        "miss_values = hotel_booking_df.isnull().sum().sort_values(ascending = False)[:6]\n",
        "print(miss_values)"
      ],
      "metadata": {
        "id": "wk-9a2fpoLcV"
      },
      "execution_count": null,
      "outputs": []
    },
    {
      "cell_type": "code",
      "source": [
        "#lets check, what is the percentage of null value in each column, starting from company\n",
        "\n",
        "percentage_company_null = miss_values[0] / uni_num_of_rows*100\n",
        "percentage_company_null"
      ],
      "metadata": {
        "id": "_35xZF2bw_x-"
      },
      "execution_count": null,
      "outputs": []
    },
    {
      "cell_type": "code",
      "source": [
        "# It is better to drop the column 'company' altogether since the number of missing values is extremely high compared to the number of rows.\n",
        "\n",
        "hotel_booking_df.drop(['company'], axis=1, inplace=True)"
      ],
      "metadata": {
        "id": "drbEQt7jxGqV"
      },
      "execution_count": null,
      "outputs": []
    },
    {
      "cell_type": "code",
      "source": [
        "# now let's check for agent\n",
        "\n",
        "percentage_agent_null = miss_values[1] / uni_num_of_rows*100\n",
        "percentage_agent_null"
      ],
      "metadata": {
        "id": "my8Z4z_zxSGY"
      },
      "execution_count": null,
      "outputs": []
    },
    {
      "cell_type": "code",
      "source": [
        "# As we have seen, there is minimul null values in agent, Lets fill these value by taking mode of the all values\n",
        "\n",
        "hotel_booking_df['agent'].fillna(value = 0, inplace = True)\n",
        "hotel_booking_df['agent'].isnull().sum() # we re-check that column has no null value"
      ],
      "metadata": {
        "id": "nPno0O5u8ri7"
      },
      "execution_count": null,
      "outputs": []
    },
    {
      "cell_type": "code",
      "source": [
        "#Check the percentage null value in country col\n",
        "\n",
        "percentage_country_null = miss_values[2] / uni_num_of_rows*100\n",
        "percentage_country_null"
      ],
      "metadata": {
        "id": "p_UpFTlL8xz7"
      },
      "execution_count": null,
      "outputs": []
    },
    {
      "cell_type": "code",
      "source": [
        "# We have less null vlues in country col, so we will replace null from 'other' as country name.\n",
        "\n",
        "hotel_booking_df['country'].fillna(value = 'others', inplace = True)\n",
        "hotel_booking_df['country'].isnull().sum() # we re-check that column has no null value"
      ],
      "metadata": {
        "id": "YWX_O8RM86Dw"
      },
      "execution_count": null,
      "outputs": []
    },
    {
      "cell_type": "code",
      "source": [
        "#Check the percentage null value in children col\n",
        "\n",
        "percentage_children_null = miss_values[3] / uni_num_of_rows*100\n",
        "percentage_children_null"
      ],
      "metadata": {
        "id": "HOs2f6nA9B-N"
      },
      "execution_count": null,
      "outputs": []
    },
    {
      "cell_type": "code",
      "source": [
        "# We have less null vlues in country col, so we will replace null from 0 as country name.\n",
        "\n",
        "hotel_booking_df['children'].fillna(value = 0, inplace = True)\n",
        "hotel_booking_df['children'].isnull().sum() # we re-check that column has no null value"
      ],
      "metadata": {
        "id": "M9DRYPsA9KBC"
      },
      "execution_count": null,
      "outputs": []
    },
    {
      "cell_type": "code",
      "source": [
        "#let's check whether database having any other null value\n",
        "\n",
        "hotel_booking_df.isnull().sum().sort_values(ascending = False)[:6] # As we have seen, no column has any null value"
      ],
      "metadata": {
        "id": "4X4H_5P09RFl"
      },
      "execution_count": null,
      "outputs": []
    },
    {
      "cell_type": "markdown",
      "source": [
        "#Change in datatype for required columns"
      ],
      "metadata": {
        "id": "uuCFOa-7nnjD"
      }
    },
    {
      "cell_type": "code",
      "source": [
        "#showing the info of the data to check datatype\n",
        "hotel_booking_df.info()"
      ],
      "metadata": {
        "id": "a-U_gfRAnwfu"
      },
      "execution_count": null,
      "outputs": []
    },
    {
      "cell_type": "code",
      "source": [
        "# We have seen that childer & agent column as datatype as float whereas it contains only int value, lets change datatype as 'int64'\n",
        "hotel_booking_df[['children', 'agent']] = hotel_booking_df[['children', 'agent']].astype('int64')"
      ],
      "metadata": {
        "id": "ylSW3bVxpnEr"
      },
      "execution_count": null,
      "outputs": []
    },
    {
      "cell_type": "markdown",
      "source": [
        "#Addition of new column as per requirement"
      ],
      "metadata": {
        "id": "_yqsP1lBpv79"
      }
    },
    {
      "cell_type": "code",
      "source": [
        "# Adding total staying days in hotels\n",
        "\n",
        "hotel_booking_df['total_stay'] = hotel_booking_df['stays_in_weekend_nights']+hotel_booking_df['stays_in_week_nights']\n"
      ],
      "metadata": {
        "id": "dFnBICfwyKyQ"
      },
      "execution_count": null,
      "outputs": []
    },
    {
      "cell_type": "code",
      "source": [
        "#total stay in nights\n",
        "hotel_booking_df['total_stay_in_nights'] = hotel_booking_df ['stays_in_week_nights'] + hotel_booking_df ['stays_in_weekend_nights']\n",
        "print(hotel_booking_df['total_stay_in_nights'])"
      ],
      "metadata": {
        "id": "N7VgPEQkp1SQ"
      },
      "execution_count": null,
      "outputs": []
    },
    {
      "cell_type": "code",
      "source": [
        "# We have created a col for revenue using total stay * adr\n",
        "hotel_booking_df['revenue'] = hotel_booking_df['total_stay_in_nights'] *hotel_booking_df['adr']\n",
        "hotel_booking_df['revenue']"
      ],
      "metadata": {
        "id": "2Qt4FN670rnc"
      },
      "execution_count": null,
      "outputs": []
    },
    {
      "cell_type": "code",
      "source": [
        "#Now, we will check overall revenue hotel wise\n",
        "total_revenue_hotel_wise = hotel_booking_df.groupby('hotel')['revenue'].sum()\n",
        "print(total_revenue_hotel_wise)"
      ],
      "metadata": {
        "id": "GOfbPwIF0uw7"
      },
      "execution_count": null,
      "outputs": []
    },
    {
      "cell_type": "code",
      "source": [
        "hotel_revenue = hotel_booking_df[['hotel', \"revenue\"]]\n",
        "print(hotel_revenue)"
      ],
      "metadata": {
        "id": "7Q_uXzLD04vr"
      },
      "execution_count": null,
      "outputs": []
    },
    {
      "cell_type": "markdown",
      "source": [
        "### What all manipulations have you done and insights you found?"
      ],
      "metadata": {
        "id": "MSa1f5Uengrz"
      }
    },
    {
      "cell_type": "markdown",
      "source": [
        "**We have done the following manupulations and the insights found by us are as follows**\n",
        "\n",
        " 1. We found that there were four columns containing null values So we Had Null values in columns- **Company, agent, Country and children**\n",
        "\n",
        "2. for country. We have fill Missing values with oject 'Others (assuming while collecting data country was not found so user selected the 'Others' option.)\n",
        "\n",
        "3. As the count of missing values in Children Column was only 4, so it was replaced with 0 considering no childrens.\n",
        "4. This dataset was also containing duplicate values so duplicate values was dropped.\n",
        "**----Delete of columns----**\n",
        "\n",
        "a)**company**: As we have seen that this columns has almost Null data. so we have delete this column as this will not make any impact in the analysis.\n",
        "\n",
        "**----Addition of columns----**\n",
        "\n",
        "There were two new columns that was added, one is 'total stay in nights' and other is 'total_stay in days'\n",
        "\n",
        "we cheak the overall revenue hotel wise i.e city hotel and resort hotel\n",
        "\n",
        "**----Removed duplicate entries----**\n",
        "\n",
        " In the same, we have checked if there is any duplicacy in data & we found that there are few rows have duplicate data. So we have removed those row from data set by using .drop_duplicates() metho\n",
        "\n",
        "**In this way, we have removed unneccesary data & make our data clean and ready to analyse.**"
      ],
      "metadata": {
        "id": "LbyXE7I1olp8"
      }
    },
    {
      "cell_type": "markdown",
      "source": [
        "## ***4. Data Vizualization, Storytelling & Experimenting with charts : Understand the relationships between variables***"
      ],
      "metadata": {
        "id": "GF8Ens_Soomf"
      }
    },
    {
      "cell_type": "markdown",
      "source": [
        "#### Chart - 1\n",
        "\n",
        "pie chart for most prefered hotel"
      ],
      "metadata": {
        "id": "0wOQAZs5pc--"
      }
    },
    {
      "cell_type": "code",
      "source": [
        "# Group the data by hotel and count the number of bookings for each\n",
        "hotel_bookings =hotel_booking_df.groupby('hotel')['hotel'].count()\n",
        "\n",
        "# Calculate the percentage of bookings for each hotel\n",
        "total_bookings = hotel_bookings.sum()\n",
        "hotel_percentages = hotel_bookings / total_bookings * 100\n",
        "\n",
        "# Create a list of colors for the pie chart slices\n",
        "colors = ['blue', 'grey']\n",
        "\n",
        "# Create the pie chart\n",
        "fig, ax = plt.subplots(figsize=(6, 6))  # set the figure size to 6 inches by 6 inches\n",
        "ax.pie(hotel_percentages, labels=hotel_bookings.index, colors=colors, autopct='%1.1f%%', wedgeprops={'linewidth': 2, 'edgecolor': 'white'})\n",
        "\n",
        "# Add a border to the title\n",
        "ax.set_title('Booking Percentage by Hotel', bbox={'facecolor': 'white', 'edgecolor': 'black', 'linewidth': 1, 'pad': 10})\n",
        "\n",
        "# Add a legend to explain the colors\n",
        "legend_text = ['City Hotel', 'Resort Hotel']\n",
        "legend_colors = ['blue', 'grey']\n",
        "ax.legend(legend_text, title='Hotels', loc='upper right', bbox_to_anchor=(1.2, 1), frameon=False, handletextpad=0.5)\n",
        "# the bbox_to_anchor argument adjusts the position of the legend\n",
        "\n",
        "# Add a box around the pie chart\n",
        "ax.set_aspect('equal', adjustable='box')\n",
        "ax.set_xlim(-1.1, -1.1)\n",
        "ax.set_ylim(-1.1, 1.1)\n",
        "ax.spines['top'].set_visible(False)\n",
        "ax.spines['right'].set_visible(False)\n",
        "ax.spines['bottom'].set_visible(False)\n",
        "ax.spines['left'].set_visible(False)\n",
        "\n",
        "# Show the chart\n",
        "plt.show()\n",
        "     "
      ],
      "metadata": {
        "id": "GzAzdDP0de6u"
      },
      "execution_count": null,
      "outputs": []
    },
    {
      "cell_type": "markdown",
      "source": [
        "##### 1. Why did you pick the specific chart?"
      ],
      "metadata": {
        "id": "K5QZ13OEpz2H"
      }
    },
    {
      "cell_type": "markdown",
      "source": [
        " It's easy to explain the percentage comparison through area covered in a circle with different colors. Wherever differenet percentage comparison comes into action pie chart is used frequently. So, we have used a pie chart **To present the data that in which hotel more booking have been done.**"
      ],
      "metadata": {
        "id": "XESiWehPqBRc"
      }
    },
    {
      "cell_type": "markdown",
      "source": [
        "##### 2. What is/are the insight(s) found from the chart?"
      ],
      "metadata": {
        "id": "lQ7QKXXCp7Bj"
      }
    },
    {
      "cell_type": "markdown",
      "source": [
        "**Here, we found that the booking number is Higher in City Hotel which is 61.12% than Resort Hotel which is 38.87%. Hence we can say that City hotel has maximum booking**"
      ],
      "metadata": {
        "id": "C_j1G7yiqdRP"
      }
    },
    {
      "cell_type": "markdown",
      "source": [
        "##### 3. Will the gained insights help creating a positive business impact? \n",
        "Are there any insights that lead to negative growth? Justify with specific reason."
      ],
      "metadata": {
        "id": "448CDAPjqfQr"
      }
    },
    {
      "cell_type": "markdown",
      "source": [
        "**Yes, for both Hotels, this graph have some positive business impact** : -\n",
        "\n",
        "**City Hotel :- Provided more services to attract more guest to increase more revenue.**\n",
        "\n",
        "**Resort Hotel :- Find solution to attract guest and find what city hotel did to attract guest.**"
      ],
      "metadata": {
        "id": "3cspy4FjqxJW"
      }
    },
    {
      "cell_type": "markdown",
      "source": [
        "#### Chart - 2\n",
        "City Hotel Bookings by Month\n",
        "\n"
      ],
      "metadata": {
        "id": "KSlN3yHqYklG"
      }
    },
    {
      "cell_type": "code",
      "source": [
        "# Chart - 2 visualization code\n",
        "# Filter the data to only include bookings for city hotels\n",
        "city_bookings = hotel_booking_df[hotel_booking_df['hotel'] == 'City Hotel']\n",
        "\n",
        "# Group the data by month and count the number of bookings for each\n",
        "month_bookings = city_bookings.groupby('arrival_date_month')['hotel'].count()\n",
        "\n",
        "# Calculate the percentage of bookings for each month\n",
        "total_bookings = month_bookings.sum()\n",
        "month_percentages = month_bookings / total_bookings * 100\n",
        "\n",
        "# Find the month with the highest percentage of bookings\n",
        "highest_month = month_percentages.idxmax()\n",
        "\n",
        "# Create a list of colors for the pie chart slices\n",
        "import matplotlib.cm as cm\n",
        "cmap = cm.get_cmap('tab20')\n",
        "colors = [cmap(i/12) for i in range(12)]\n",
        "colors[month_bookings.index.get_loc(highest_month)] = 'darkred'\n",
        "\n",
        "# Create the pie chart\n",
        "fig, ax = plt.subplots(figsize=(6, 6))\n",
        "explode = [0.05 if month == highest_month else 0 for month in month_bookings.index]\n",
        "ax.pie(month_percentages, labels=month_bookings.index, colors=colors, autopct='%1.1f%%', startangle=90, wedgeprops={'linewidth': 2, 'edgecolor': 'white'}, labeldistance=1.2, textprops={'fontsize': 10}, explode=explode)\n",
        "\n",
        "# Add a title to the chart\n",
        "ax.set_title('City Hotel Bookings by Month', bbox={'facecolor': 'white', 'edgecolor': 'black', 'linewidth': 1, 'pad': 20}, pad=20)\n",
        "\n",
        "# Add a legend to explain the colors\n",
        "legend_text = [f'{month} ({count})' for month, count in zip(month_bookings.index, month_bookings)]\n",
        "legend_colors = colors\n",
        "ax.legend(legend_text, title='Months', loc='upper right', bbox_to_anchor=(1.2, 1), frameon=False, handletextpad=0.5)\n",
        "\n",
        "# Add a box around the pie chart\n",
        "ax.set_aspect('equal', adjustable='box')\n",
        "ax.set_xlim(0.2, 2.5)\n",
        "ax.set_ylim(0.2, 1.5)\n",
        "ax.spines['top'].set_visible(False)\n",
        "ax.spines['right'].set_visible(False)\n",
        "ax.spines['bottom'].set_visible(False)\n",
        "ax.spines['left'].set_visible(False)\n",
        "\n",
        "# Show the chart\n",
        "plt.show()\n"
      ],
      "metadata": {
        "id": "hyuudGxrR6n6"
      },
      "execution_count": null,
      "outputs": []
    },
    {
      "cell_type": "markdown",
      "source": [
        "##### 1. Why did you pick the specific chart?"
      ],
      "metadata": {
        "id": "t6dVpIINYklI"
      }
    },
    {
      "cell_type": "markdown",
      "source": [],
      "metadata": {
        "id": "5aaW0BYyYklI"
      }
    },
    {
      "cell_type": "markdown",
      "source": [
        "##### 2. What is/are the insight(s) found from the chart?"
      ],
      "metadata": {
        "id": "ijmpgYnKYklI"
      }
    },
    {
      "cell_type": "markdown",
      "source": [
        "**Here, we found that overall more than 25% of booking got cancelled**"
      ],
      "metadata": {
        "id": "PSx9atu2YklI"
      }
    },
    {
      "cell_type": "markdown",
      "source": [
        "##### 3. Will the gained insights help creating a positive business impact? \n",
        "Are there any insights that lead to negative growth? Justify with specific reason."
      ],
      "metadata": {
        "id": "-JiQyfWJYklI"
      }
    },
    {
      "cell_type": "markdown",
      "source": [
        "\n",
        "**Here, we can see, that more than 27% booking getting cancelled.**\n",
        "\n",
        "**Solution: We can check the reason of cancellation of a booking & need to get this sort on business level**"
      ],
      "metadata": {
        "id": "BcBbebzrYklV"
      }
    },
    {
      "cell_type": "markdown",
      "source": [
        "#### Chart - 3"
      ],
      "metadata": {
        "id": "EM7whBJCYoAo"
      }
    },
    {
      "cell_type": "code",
      "source": [
        "# Chart - 3 visualization code\n",
        "# Filter the data to only include bookings for resort hotels\n",
        "resort_bookings = hotel_booking_df[hotel_booking_df['hotel'] == 'Resort Hotel']\n",
        "\n",
        "# Group the data by month and count the number of bookings for each\n",
        "month_bookings = resort_bookings.groupby('arrival_date_month')['hotel'].count()\n",
        "\n",
        "# Calculate the percentage of bookings for each month\n",
        "total_bookings = month_bookings.sum()\n",
        "month_percentages = month_bookings / total_bookings * 100\n",
        "\n",
        "# Find the month with the highest percentage of bookings\n",
        "highest_month = month_percentages.idxmax()\n",
        "\n",
        "# Create a list of colors for the pie chart slices\n",
        "import matplotlib.cm as cm\n",
        "cmap = cm.get_cmap('tab20')\n",
        "colors = [cmap(i/12) for i in range(12)]\n",
        "colors[month_bookings.index.get_loc(highest_month)] = 'darkblue'\n",
        "\n",
        "# Create the pie chart\n",
        "fig, ax = plt.subplots(figsize=(6, 6))\n",
        "explode = [0.05 if month == highest_month else 0 for month in month_bookings.index]\n",
        "ax.pie(month_percentages, labels=month_bookings.index, colors=colors, autopct='%1.1f%%', startangle=90, wedgeprops={'linewidth': 2, 'edgecolor': 'white'}, labeldistance=1.2, textprops={'fontsize': 10}, explode=explode)\n",
        "\n",
        "# Add a title to the chart\n",
        "ax.set_title('Resort Hotel Bookings by Month', bbox={'facecolor': 'white', 'edgecolor': 'black', 'linewidth': 1, 'pad': 20}, pad=20)\n",
        "\n",
        "# Add a legend to explain the colors\n",
        "legend_text = [f'{month} ({count})' for month, count in zip(month_bookings.index, month_bookings)]\n",
        "legend_colors = colors\n",
        "ax.legend(legend_text, title='Months', loc='upper right', bbox_to_anchor=(1.2, 1), frameon=False, handletextpad=0.5)\n",
        "\n",
        "# Add a box around the pie chart\n",
        "ax.set_aspect('equal', adjustable='box')\n",
        "ax.set_xlim(0.2, 2.5)\n",
        "ax.set_ylim(0.2, 1.5)\n",
        "ax.spines['top'].set_visible(False)\n",
        "ax.spines['right'].set_visible(False)\n",
        "ax.spines['bottom'].set_visible(False)\n",
        "ax.spines['left'].set_visible(False)\n",
        "\n",
        "# Show the chart\n",
        "plt.show()\n",
        "     "
      ],
      "metadata": {
        "id": "t6GMdE67YoAp"
      },
      "execution_count": null,
      "outputs": []
    },
    {
      "cell_type": "markdown",
      "source": [
        "##### 1. Why did you pick the specific chart?"
      ],
      "metadata": {
        "id": "fge-S5ZAYoAp"
      }
    },
    {
      "cell_type": "markdown",
      "source": [
        "**The following chart represent maximum volume of booking done through which channel to represnt the numbers in descending order we chose bar graph**"
      ],
      "metadata": {
        "id": "5dBItgRVYoAp"
      }
    },
    {
      "cell_type": "markdown",
      "source": [
        "##### 2. What is/are the insight(s) found from the chart?"
      ],
      "metadata": {
        "id": "85gYPyotYoAp"
      }
    },
    {
      "cell_type": "markdown",
      "source": [
        "**As clearly seen TA/TO(Tour of Agent & Tour of operator) is highest, recommending to continue booking through TA/TO**"
      ],
      "metadata": {
        "id": "4jstXR6OYoAp"
      }
    },
    {
      "cell_type": "markdown",
      "source": [
        "##### 3. Will the gained insights help creating a positive business impact? \n",
        "Are there any insights that lead to negative growth? Justify with specific reason."
      ],
      "metadata": {
        "id": "RoGjAbkUYoAp"
      }
    },
    {
      "cell_type": "markdown",
      "source": [
        "\n",
        "**Yes this shows positive business impact.**\n",
        "\n",
        "**Higher the number of TA/TO will help to increase the revenue generation of Hotel.**"
      ],
      "metadata": {
        "id": "zfJ8IqMcYoAp"
      }
    },
    {
      "cell_type": "markdown",
      "source": [
        "#### Chart - 4"
      ],
      "metadata": {
        "id": "4Of9eVA-YrdM"
      }
    },
    {
      "cell_type": "code",
      "source": [
        "# Chart - 4 visualization code\n",
        "# Filter data for city hotel and resort hotel\n",
        "city_hotel = hotel_booking_df[hotel_booking_df['hotel'] == 'City Hotel']\n",
        "resort_hotel = hotel_booking_df[hotel_booking_df['hotel'] == 'Resort Hotel']\n",
        "\n",
        "# Count the number of bookings for each booking channel\n",
        "city_booking_channel = city_hotel['distribution_channel'].value_counts()\n",
        "resort_booking_channel = resort_hotel['distribution_channel'].value_counts()\n",
        "\n",
        "# Create bar chart for city hotel\n",
        "plt.figure(figsize=(8, 6))\n",
        "sns.barplot(x=city_booking_channel.index, y=city_booking_channel.values, palette='Blues_d')\n",
        "plt.title('City Hotel Booking Channels', fontsize=14)\n",
        "plt.xlabel('Booking Channel', fontsize=12)\n",
        "plt.ylabel('Number of Bookings', fontsize=12)\n",
        "\n",
        "# Create bar chart for resort hotel\n",
        "plt.figure(figsize=(8, 6))\n",
        "sns.barplot(x=resort_booking_channel.index, y=resort_booking_channel.values, palette='Greens_d')\n",
        "plt.title('Resort Hotel Booking Channels', fontsize=14)\n",
        "plt.xlabel('Booking Channel', fontsize=12)\n",
        "plt.ylabel('Number of Bookings', fontsize=12)\n",
        "\n",
        "plt.show()"
      ],
      "metadata": {
        "id": "irlUoxc8YrdO"
      },
      "execution_count": null,
      "outputs": []
    },
    {
      "cell_type": "markdown",
      "source": [
        "##### 1. Why did you pick the specific chart?"
      ],
      "metadata": {
        "id": "iky9q4vBYrdO"
      }
    },
    {
      "cell_type": "markdown",
      "source": [
        "**To show the percentage share of booking in each month,on overall level**"
      ],
      "metadata": {
        "id": "aJRCwT6DYrdO"
      }
    },
    {
      "cell_type": "markdown",
      "source": [
        "##### 2. What is/are the insight(s) found from the chart?"
      ],
      "metadata": {
        "id": "F6T5p64dYrdO"
      }
    },
    {
      "cell_type": "markdown",
      "source": [
        "**The above percentage shows month May, July and Aug are the highest booking months due to holiday season. Recommending aggressive advertisement to lure more and more customers.**"
      ],
      "metadata": {
        "id": "Xx8WAJvtYrdO"
      }
    },
    {
      "cell_type": "markdown",
      "source": [
        "##### 3. Will the gained insights help creating a positive business impact? \n",
        "Are there any insights that lead to negative growth? Justify with specific reason."
      ],
      "metadata": {
        "id": "y-Ehk30pYrdP"
      }
    },
    {
      "cell_type": "markdown",
      "source": [
        "\n",
        "**Yes, with increased volume of visitors will help hotel to manage revenue in down time, will also help employee satisfaction and retention.**"
      ],
      "metadata": {
        "id": "jLNxxz7MYrdP"
      }
    },
    {
      "cell_type": "markdown",
      "source": [
        "#### Chart - 5\n",
        "percentage of repeated guest"
      ],
      "metadata": {
        "id": "bamQiAODYuh1"
      }
    },
    {
      "cell_type": "code",
      "source": [
        "# Chart - 5 visualization code\n",
        "hotel_booking_df['is_repeated_guest'].value_counts().plot.pie(explode=(0.05,0.05),autopct='%1.1f%%', shadow=True, figsize=(12,8), fontsize=20)\n",
        "\n",
        "plt.title(\"Percentgae (X) of repeated guests\", fontsize =15)\n"
      ],
      "metadata": {
        "id": "TIJwrbroYuh3"
      },
      "execution_count": null,
      "outputs": []
    },
    {
      "cell_type": "markdown",
      "source": [
        "##### 1. Why did you pick the specific chart?"
      ],
      "metadata": {
        "id": "QHF8YVU7Yuh3"
      }
    },
    {
      "cell_type": "markdown",
      "source": [
        " The concept of pie slices is used to show the percentage of a particular data from the whole pie. Thus, We have used to show the percentage of repeated guests or not (where 0 is not repeated guest and 1 is repeated guest) through pie chart with different colored area under a circle.\n"
      ],
      "metadata": {
        "id": "dcxuIMRPYuh3"
      }
    },
    {
      "cell_type": "markdown",
      "source": [
        "##### 2. What is/are the insight(s) found from the chart?"
      ],
      "metadata": {
        "id": "GwzvFGzlYuh3"
      }
    },
    {
      "cell_type": "markdown",
      "source": [
        "Repeated guests are very few which only 3.9% while 96,1% guests are not returning to the same hotel."
      ],
      "metadata": {
        "id": "uyqkiB8YYuh3"
      }
    },
    {
      "cell_type": "markdown",
      "source": [
        "##### 3. Will the gained insights help creating a positive business impact? \n",
        "Are there any insights that lead to negative growth? Justify with specific reason."
      ],
      "metadata": {
        "id": "qYpmQ266Yuh3"
      }
    },
    {
      "cell_type": "markdown",
      "source": [
        "Yes, the proportion of repeated guests is very much low. We can give alluring offers to non-repetitive customers during Off seasons to enhance revenue"
      ],
      "metadata": {
        "id": "_WtzZ_hCYuh4"
      }
    },
    {
      "cell_type": "markdown",
      "source": [
        "#### Chart - 6"
      ],
      "metadata": {
        "id": "OH-pJp9IphqM"
      }
    },
    {
      "cell_type": "code",
      "source": [
        "# Chart - 6 visualization code\n",
        "# Create a DataFrame with some sample data\n",
        "data = {'Room Type': ['Standard Room', 'Deluxe Room', 'Superior Room'],\n",
        "        'Bookings': [304, 120, 215]}\n",
        "df = pd.DataFrame(data)\n",
        "\n",
        "# Create the bar chart\n",
        "fig, ax = plt.subplots()\n",
        "ax.bar(df['Room Type'], df['Bookings'])\n",
        "\n",
        "# Set the x-axis tick labels\n",
        "ax.set_xticklabels(df['Room Type'], rotation=45, ha='right')\n",
        "\n",
        "# Add labels and title to the chart\n",
        "ax.set_xlabel('Room Type')\n",
        "ax.set_ylabel('Number of Bookings')\n",
        "ax.set_title('Room Bookings by Type')\n",
        "\n",
        "# Show the chart\n",
        "plt.show()\n"
      ],
      "metadata": {
        "id": "kuRf4wtuphqN"
      },
      "execution_count": null,
      "outputs": []
    },
    {
      "cell_type": "markdown",
      "source": [
        "##### 1. Why did you pick the specific chart?"
      ],
      "metadata": {
        "id": "bbFf2-_FphqN"
      }
    },
    {
      "cell_type": "markdown",
      "source": [
        "**To show distribution by volume, which room is alotted.**"
      ],
      "metadata": {
        "id": "loh7H2nzphqN"
      }
    },
    {
      "cell_type": "markdown",
      "source": [
        "##### 2. What is/are the insight(s) found from the chart?"
      ],
      "metadata": {
        "id": "_ouA3fa0phqN"
      }
    },
    {
      "cell_type": "markdown",
      "source": [
        "**This chart shows room type 'A' is most prefered by guest.**"
      ],
      "metadata": {
        "id": "VECbqPI7phqN"
      }
    },
    {
      "cell_type": "markdown",
      "source": [
        "##### 3. Will the gained insights help creating a positive business impact? \n",
        "Are there any insights that lead to negative growth? Justify with specific reason."
      ],
      "metadata": {
        "id": "Seke61FWphqN"
      }
    },
    {
      "cell_type": "markdown",
      "source": [
        "**Yes, Positive impact because 'A','D','E' is more prefered by guest due to better services offered in room type**"
      ],
      "metadata": {
        "id": "DW4_bGpfphqN"
      }
    },
    {
      "cell_type": "markdown",
      "source": [
        "#### Chart - 7"
      ],
      "metadata": {
        "id": "PIIx-8_IphqN"
      }
    },
    {
      "cell_type": "code",
      "source": [
        "# Chart - 7 visualization code\n",
        "\n",
        "# Group the data by market segment and count the number of bookings for each\n",
        "market_segment_counts = hotel_booking_df.groupby('market_segment')['hotel'].count().sort_values()\n",
        "\n",
        "# Create the bar chart\n",
        "fig, ax = plt.subplots(figsize=(8, 6))\n",
        "ax.barh(market_segment_counts.index, market_segment_counts.values, color='darkorange')\n",
        "\n",
        "# Add labels and title\n",
        "ax.set_xlabel('Number of Bookings')\n",
        "ax.set_ylabel('Market Segment')\n",
        "ax.set_title('Hotel Bookings by Market Segment')\n",
        "\n",
        "# Show the chart\n",
        "plt.show()\n"
      ],
      "metadata": {
        "id": "lqAIGUfyphqO"
      },
      "execution_count": null,
      "outputs": []
    },
    {
      "cell_type": "markdown",
      "source": [
        "##### 1. Why did you pick the specific chart?"
      ],
      "metadata": {
        "id": "t27r6nlMphqO"
      }
    },
    {
      "cell_type": "markdown",
      "source": [
        "**In this chart, we have seen market segment by which hotel has booked**"
      ],
      "metadata": {
        "id": "iv6ro40sphqO"
      }
    },
    {
      "cell_type": "markdown",
      "source": [
        "##### 2. What is/are the insight(s) found from the chart?"
      ],
      "metadata": {
        "id": "r2jJGEOYphqO"
      }
    },
    {
      "cell_type": "markdown",
      "source": [
        "**Online TA has been used most frequently to book hotel by the guest**"
      ],
      "metadata": {
        "id": "Po6ZPi4hphqO"
      }
    },
    {
      "cell_type": "markdown",
      "source": [
        "##### 3. Will the gained insights help creating a positive business impact? \n",
        "Are there any insights that lead to negative growth? Justify with specific reason."
      ],
      "metadata": {
        "id": "b0JNsNcRphqO"
      }
    },
    {
      "cell_type": "markdown",
      "source": [
        "\n",
        "**Yes, it is creating positive business impact that guests are using Online TA market segment as most prefered to book hotels.**"
      ],
      "metadata": {
        "id": "xvSq8iUTphqO"
      }
    },
    {
      "cell_type": "markdown",
      "source": [
        "#### Chart - 8"
      ],
      "metadata": {
        "id": "BZR9WyysphqO"
      }
    },
    {
      "cell_type": "code",
      "source": [
        "# Chart - 8 visualization code\n",
        "# Filter the data to only include reservations where a room was booked\n",
        "booked_rooms = hotel_booking_df[hotel_booking_df['reserved_room_type'] != '']\n",
        "\n",
        "# Group the data by room type and count the number of reservations for each\n",
        "room_counts = booked_rooms.groupby('reserved_room_type')['hotel'].count().sort_values()\n",
        "\n",
        "# Create the bar chart\n",
        "fig, ax = plt.subplots(figsize=(8, 6))\n",
        "ax.barh(y=room_counts.index, width=room_counts.values, color='royalblue')\n",
        "\n",
        "# Add labels and title\n",
        "ax.set_xlabel('Number of Bookings')\n",
        "ax.set_ylabel('Reserved Room Type')\n",
        "ax.set_title('Hotel Bookings by Room Type')\n",
        "\n",
        "# Show the chart\n",
        "plt.show()"
      ],
      "metadata": {
        "id": "TdPTWpAVphqO"
      },
      "execution_count": null,
      "outputs": []
    },
    {
      "cell_type": "markdown",
      "source": [
        "##### 1. Why did you pick the specific chart?"
      ],
      "metadata": {
        "id": "jj7wYXLtphqO"
      }
    },
    {
      "cell_type": "markdown",
      "source": [
        "\n",
        "**We have seen that mostly from which country Guests is coming**\n",
        "\n",
        "**Chart is showing for top 10 country**"
      ],
      "metadata": {
        "id": "Ob8u6rCTphqO"
      }
    },
    {
      "cell_type": "markdown",
      "source": [
        "##### 2. What is/are the insight(s) found from the chart?"
      ],
      "metadata": {
        "id": "eZrbJ2SmphqO"
      }
    },
    {
      "cell_type": "markdown",
      "source": [
        "**As we can see, that maximum guest is coming from Portugal**"
      ],
      "metadata": {
        "id": "mZtgC_hjphqO"
      }
    },
    {
      "cell_type": "markdown",
      "source": [
        "##### 3. Will the gained insights help creating a positive business impact? \n",
        "Are there any insights that lead to negative growth? Justify with specific reason."
      ],
      "metadata": {
        "id": "rFu4xreNphqO"
      }
    },
    {
      "cell_type": "markdown",
      "source": [
        "**We can do more advertising & can provide attractive offers to Portugal guests to enhance the customer volume**"
      ],
      "metadata": {
        "id": "ey_0qi68phqO"
      }
    },
    {
      "cell_type": "markdown",
      "source": [
        "#### Chart - 9"
      ],
      "metadata": {
        "id": "YJ55k-q6phqO"
      }
    },
    {
      "cell_type": "code",
      "source": [
        "# Chart - 9 visualization code\n",
        "order = ['January', 'February', 'March', 'April', 'May', 'June', \n",
        "         'July', 'August', 'September', 'October', 'November', 'December']\n",
        "ordered_hotel_df = hotel_booking_df[hotel_booking_df['is_canceled'] == 'not canceled']['arrival_date_month'].value_counts().reindex(order)\n",
        "plt.subplots(figsize=(10, 6))\n",
        "ticks = np.arange(0, 20, 150)\n",
        "labels = [\"{}\".format(i//1) for i in ticks]\n",
        "plt.yticks(ticks, labels)\n",
        "\n",
        "plt.xticks(rotation=60)\n",
        "\n",
        "for xy in zip(ordered_hotel_df.index, ordered_hotel_df.values):\n",
        "    plt.annotate(s = \"{}\".format(xy[1]//1), xy = xy,  textcoords='data')\n",
        "\n",
        "plt.plot(ordered_hotel_df.index, ordered_hotel_df.values,linewidth = 4, color = 'r',linestyle='dotted',marker='+',markersize=20,alpha=1)\n",
        "\n",
        "plt.xlabel(\"Months\", fontdict={'fontsize': 12, 'fontweight' : 5, 'color' : 'Brown'})\n",
        "plt.ylabel(\"Counts\", fontdict={'fontsize': 12, 'fontweight' : 5, 'color' : 'Brown'} )\n",
        "plt.title(\"Month-wise Booking\", fontdict={'fontsize': 20, 'fontweight' : 5, 'color' : 'Green'} )\n",
        "\n"
      ],
      "metadata": {
        "id": "B2aS4O1ophqO"
      },
      "execution_count": null,
      "outputs": []
    },
    {
      "cell_type": "code",
      "source": [
        "plt.figure(figsize = (8,5))\n",
        "hotel_wise_revenue = hotel_booking_df.groupby('hotel')['revenue'].sum()\n",
        "hotel_wise_revenue\n",
        "ax = hotel_wise_revenue.plot(kind = 'bar', color = ('b', 'y'))\n",
        "plt.xlabel(\"Hotel\", fontdict={'fontsize': 12, 'fontweight' : 5, 'color' : 'Brown'})\n",
        "plt.ylabel(\"Total Revenue\", fontdict={'fontsize': 12, 'fontweight' : 5, 'color' : 'Brown'} )\n",
        "plt.title(\"Total Revenue\", fontdict={'fontsize': 12, 'fontweight' : 5, 'color' : 'Green'} )"
      ],
      "metadata": {
        "id": "0HzpA3vBtPmp"
      },
      "execution_count": null,
      "outputs": []
    },
    {
      "cell_type": "code",
      "source": [
        "average_adr = hotel_booking_df.groupby('hotel')['adr'].mean()\n",
        "average_adr\n",
        "plt.subplots(figsize=(8, 5))\n",
        "average_adr.plot(kind = 'barh', color = ('g', 'r'))\n",
        "plt.xlabel(\"Average ADR\", fontdict={'fontsize': 12, 'fontweight' : 5, 'color' : 'Brown'})\n",
        "plt.ylabel(\"Hotel Name\", fontdict={'fontsize': 12, 'fontweight' : 5, 'color' : 'Brown'} )\n",
        "plt.title(\"Average ADR of Hotel\", fontdict={'fontsize': 12, 'fontweight' : 5, 'color' : 'Green'} )"
      ],
      "metadata": {
        "id": "kuq63Mg5tXgE"
      },
      "execution_count": null,
      "outputs": []
    },
    {
      "cell_type": "markdown",
      "source": [
        "##### 1. Why did you pick the specific chart?"
      ],
      "metadata": {
        "id": "gCFgpxoyphqP"
      }
    },
    {
      "cell_type": "markdown",
      "source": [
        "**To specify the average ADR for both hotels**"
      ],
      "metadata": {
        "id": "TVxDimi2phqP"
      }
    },
    {
      "cell_type": "markdown",
      "source": [
        "##### 2. What is/are the insight(s) found from the chart?"
      ],
      "metadata": {
        "id": "OVtJsKN_phqQ"
      }
    },
    {
      "cell_type": "markdown",
      "source": [
        "\n",
        "**As we can see the average ADR of City hotel is higher than Resort hotel, so the profit and revenue will be higher for city hotel**"
      ],
      "metadata": {
        "id": "ngGi97qjphqQ"
      }
    },
    {
      "cell_type": "markdown",
      "source": [
        "##### 3. Will the gained insights help creating a positive business impact? \n",
        "Are there any insights that lead to negative growth? Justify with specific reason."
      ],
      "metadata": {
        "id": "lssrdh5qphqQ"
      }
    },
    {
      "cell_type": "markdown",
      "source": [
        "**Here, we can do more advertising for City hotel to get more customer, which result higher profit**"
      ],
      "metadata": {
        "id": "tBpY5ekJphqQ"
      }
    },
    {
      "cell_type": "markdown",
      "source": [
        "#### Chart - 10"
      ],
      "metadata": {
        "id": "U2RJ9gkRphqQ"
      }
    },
    {
      "cell_type": "code",
      "source": [
        "# Chart - 10 visualization code\n",
        "plt.figure(figsize = (12,6))\n",
        "sns.scatterplot(y = 'total_stay_in_nights', x = 'adr', data = hotel_booking_df[hotel_booking_df['adr'] < 1000])\n",
        "plt.show() #"
      ],
      "metadata": {
        "id": "GM7a4YP4phqQ"
      },
      "execution_count": null,
      "outputs": []
    },
    {
      "cell_type": "markdown",
      "source": [
        "##### 1. Why did you pick the specific chart?"
      ],
      "metadata": {
        "id": "1M8mcRywphqQ"
      }
    },
    {
      "cell_type": "markdown",
      "source": [
        "**To show comparision & affect of total stay days vs ADR**"
      ],
      "metadata": {
        "id": "8agQvks0phqQ"
      }
    },
    {
      "cell_type": "markdown",
      "source": [
        "##### 2. What is/are the insight(s) found from the chart?"
      ],
      "metadata": {
        "id": "tgIPom80phqQ"
      }
    },
    {
      "cell_type": "markdown",
      "source": [
        "**Here, we found that if guest's stay days is getting decreased, ADR is getting high**"
      ],
      "metadata": {
        "id": "Qp13pnNzphqQ"
      }
    },
    {
      "cell_type": "markdown",
      "source": [
        "#### Chart - 11\n"
      ],
      "metadata": {
        "id": "x-EpHcCOp1ci"
      }
    },
    {
      "cell_type": "code",
      "source": [
        "# Chart - 11 visualization code\n",
        "plt.figure(figsize = (12,10), dpi = 100)\n",
        "hotel_wise_meal = hotel_booking_df.groupby(['hotel', 'meal'])['meal'].count().unstack()\n",
        "hotel_wise_meal.plot(kind ='bar', figsize = (12,8))\n",
        "hotel_wise_meal"
      ],
      "metadata": {
        "id": "mAQTIvtqp1cj"
      },
      "execution_count": null,
      "outputs": []
    },
    {
      "cell_type": "markdown",
      "source": [
        "##### 1. Why did you pick the specific chart?"
      ],
      "metadata": {
        "id": "X_VqEhTip1ck"
      }
    },
    {
      "cell_type": "markdown",
      "source": [
        "**To show the meal preferance of the guest hotel-wise**"
      ],
      "metadata": {
        "id": "-vsMzt_np1ck"
      }
    },
    {
      "cell_type": "markdown",
      "source": [
        "##### 2. What is/are the insight(s) found from the chart?"
      ],
      "metadata": {
        "id": "8zGJKyg5p1ck"
      }
    },
    {
      "cell_type": "markdown",
      "source": [
        "**As we can see, BB (Bed & breakfast) meal is most prefered by guests in both the hotels. So Hotel can give more delisious dishes in this meal to get customer repeat & attaract new customer**"
      ],
      "metadata": {
        "id": "ZYdMsrqVp1ck"
      }
    },
    {
      "cell_type": "markdown",
      "source": [
        "#### Chart - 12 -  Correlation Heatmap"
      ],
      "metadata": {
        "id": "n3dbpmDWp1ck"
      }
    },
    {
      "cell_type": "code",
      "source": [
        "# Chart - 12 visualization code\n",
        "corr_df = hotel_booking_df[['lead_time','previous_cancellations', 'previous_bookings_not_canceled', \n",
        "                    'booking_changes', 'days_in_waiting_list', 'adr', 'required_car_parking_spaces', 'total_of_special_requests']].corr()\n",
        "f, ax = plt.subplots(figsize=(12, 12))\n",
        "sns.heatmap(corr_df, annot = True, fmt='.2f', annot_kws={'size': 10},  vmax=1, square=True, cmap=\"YlGnBu\")"
      ],
      "metadata": {
        "id": "bwevp1tKp1ck"
      },
      "execution_count": null,
      "outputs": []
    },
    {
      "cell_type": "markdown",
      "source": [
        "##### 1. Why did you pick the specific chart?"
      ],
      "metadata": {
        "id": "ylSl6qgtp1ck"
      }
    },
    {
      "cell_type": "markdown",
      "source": [
        "A correlation matrix is a table showing correlation coefficients between variables. Each cell in the table shows the correlation between two variables. A correlation matrix is used to summarize data, as an input into a more advanced analysis, and as a diagnostic for advanced analyses. The range of correlation is [-1.1]"
      ],
      "metadata": {
        "id": "m2xqNkiQp1ck"
      }
    },
    {
      "cell_type": "markdown",
      "source": [
        "##### 2. What is/are the insight(s) found from the chart?"
      ],
      "metadata": {
        "id": "ZWILFDl5p1ck"
      }
    },
    {
      "cell_type": "markdown",
      "source": [
        "Highest corelation value between axis is 39% positive & lowest corelation value between the axis is -9% negative."
      ],
      "metadata": {
        "id": "x-lUsV2mp1ck"
      }
    },
    {
      "cell_type": "markdown",
      "source": [
        "## **5. Solution to Business Objective**"
      ],
      "metadata": {
        "id": "JcMwzZxoAimU"
      }
    },
    {
      "cell_type": "markdown",
      "source": [
        "#### What do you suggest the client to achieve Business Objective ? \n",
        "Explain Briefly."
      ],
      "metadata": {
        "id": "8G2x9gOozGDZ"
      }
    },
    {
      "cell_type": "markdown",
      "source": [
        "**Business objective attained as follows:**\n",
        "\n",
        "1.For hotel business to attain high growth and more success, need to flourish few things which we need to consider is high revenue generation, customers satisfaction and employeee retention.\n",
        "\n",
        "2.We are able achieve the same by showing the client which are the months which are high in revenue generation by pie chart distribution\n",
        "\n",
        "3.Increasing the revenue achieved by bar chart distribution of which typre room are most reserved and what are the months likely for visitors\n",
        "\n",
        "4.So for these the client can be well prepare in advance so that minimum grievances would be faced by clients in long run and would help in further enhancement of their hospitality.\n",
        "\n",
        "5.Outliers like higher the visitor then adr has reduced drastically was shown in scattered plot so in off season client can engage with offices for bulk booking this will aslo help extra revenue generation\n",
        "\n",
        "6.We are able to show the trend of arrivals of visitor at client locations through which client engaged visitos well advance for there entaertainment and leisure activities\n",
        "\n",
        "7.Ask for feedback often from the guests visitng the hotels so that the quality can be upgraded to the next level to increase more guests."
      ],
      "metadata": {
        "id": "pASKb0qOza21"
      }
    },
    {
      "cell_type": "markdown",
      "source": [
        "# **Conclusion**"
      ],
      "metadata": {
        "id": "gCX9965dhzqZ"
      }
    },
    {
      "cell_type": "markdown",
      "source": [
        "\n",
        "1.City hotels are the most preferred hotel type by the guests. So, We can say that City hotels are the busiest hotel in comparision to the resort hotel.\n",
        "\n",
        "2.Most bookings were made from July to August. And the least bookings were made at the start and end of the year.\n",
        "\n",
        "\n",
        "3.Majority of the guests have shown interest in the room type 'A'.Room type 'A' is the most preferred room type.\n",
        "\n",
        "4.Most number of bookings are made from Portugal & Great Britain.\n",
        "\n",
        "5.Most of the guest stays for 1-4 days in the hotels.\n",
        "\n",
        "6.City Hotel retains more number of guests.\n",
        "\n",
        "7.New guest tends to cancel bookings more than repeated customers\n",
        "\n",
        "8.Almost 1/4 th of the total bookings is cancelled. Approx 27.5% bookings have got cancelled out of all the bookings.More cancellations are from City Hotel.\n",
        "\n",
        "9.The mostly used distribution channel for booking is \"TA/TO\" (travel agents/Tour operators).Corporate has the most percentage of repeated guests while TA/TO has the least whereas in the case of cancelled bookings TA/TO has the most percentage while Corporate has the least.\n",
        "\n",
        " \n",
        "10.The length of the stay decreases as ADR increases probably to reduce the cost\n",
        "\n",
        "11.for Resort hotel, ADR is high in the months of June, July, August as compared to City Hotels.\n"
      ],
      "metadata": {
        "id": "Fjb1IsQkh3yE"
      }
    },
    {
      "cell_type": "markdown",
      "source": [
        "### ***Hurrah! You have successfully completed your EDA Capstone Project !!!***"
      ],
      "metadata": {
        "id": "gIfDvo9L0UH2"
      }
    }
  ]
}